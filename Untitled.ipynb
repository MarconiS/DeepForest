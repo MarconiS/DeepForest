{
 "cells": [
  {
   "cell_type": "code",
   "execution_count": null,
   "metadata": {},
   "outputs": [],
   "source": [
    "#pipeline to get to use deepforest for species classification"
   ]
  },
  {
   "cell_type": "code",
   "execution_count": 1,
   "metadata": {},
   "outputs": [],
   "source": [
    "import deepforest\n",
    "import pandas as pd"
   ]
  },
  {
   "cell_type": "code",
   "execution_count": 2,
   "metadata": {},
   "outputs": [],
   "source": [
    "annotations = pd.read_csv(\"///orange/ewhite/s.marconi/Chapter4//annotations.csv\")"
   ]
  },
  {
   "cell_type": "code",
   "execution_count": 3,
   "metadata": {},
   "outputs": [],
   "source": [
    "import os\n",
    "from deepforest import get_data\n",
    "import numpy as np\n",
    "from deepforest import preprocess"
   ]
  },
  {
   "cell_type": "code",
   "execution_count": 7,
   "metadata": {},
   "outputs": [],
   "source": [
    "tiffs = os.listdir(\"/Volumes/TOSHIBA EXT/Chapter4/HSI/HARV/\")"
   ]
  },
  {
   "cell_type": "code",
   "execution_count": 13,
   "metadata": {},
   "outputs": [],
   "source": [
    "tiffs = annotations[\"image_path\"].drop_duplicates()"
   ]
  },
  {
   "cell_type": "code",
   "execution_count": 22,
   "metadata": {},
   "outputs": [],
   "source": [
    "train_annotations = [] \n",
    "for ii in tiffs:\n",
    "    tmp= preprocess.split_raster(path_to_raster=\"///orange/ewhite/s.marconi/Chapter4/HSI/HARV/\"+ii,\n",
    "                                 annotations_file=\"///orange/ewhite/s.marconi/Chapter4/annotations.csv\",\n",
    "                                 base_dir='///orange/ewhite/s.marconi/Chapter4//Crops/',\n",
    "                                 patch_size=20,\n",
    "                                 patch_overlap=0.05)\n",
    "    train_annotations.append(pd.DataFrame(tmp)) "
   ]
  },
  {
   "cell_type": "code",
   "execution_count": 25,
   "metadata": {},
   "outputs": [
    {
     "data": {
      "text/plain": [
       "(644143, 6)"
      ]
     },
     "execution_count": 25,
     "metadata": {},
     "output_type": "execute_result"
    }
   ],
   "source": [
    "df = pd.concat(train_annotations)\n",
    "df.to_csv(\"'///orange/ewhite/s.marconi/Chapter4//Crops/train_example.csv\", index=False, header=False)"
   ]
  },
  {
   "cell_type": "code",
   "execution_count": 26,
   "metadata": {},
   "outputs": [],
   "source": []
  },
  {
   "cell_type": "code",
   "execution_count": 31,
   "metadata": {},
   "outputs": [],
   "source": [
    "from deepforest import deepforest\n",
    "from deepforest import get_data\n"
   ]
  },
  {
   "cell_type": "code",
   "execution_count": null,
   "metadata": {},
   "outputs": [],
   "source": [
    "train_model = deepforest.deepforest()\n",
    "\n",
    "# Example run with short training\n",
    "train_model.config[\"epochs\"] = 1\n",
    "train_model.config[\"save-snapshot\"] = True\n",
    "train_model.config[\"steps\"] = 1\n",
    "#test_model.config[\"\"] = \"/Volumes/TOSHIBA EXT/Chapter4/Crops/\"\n",
    "\n",
    "annotations_file = get_data(\"///orange/ewhite/s.marconi/Chapter4//Crops/train_example.csv\")\n",
    "\n",
    "train_model.train(annotations=annotations_file, input_type=\"fit_generator\")"
   ]
  },
  {
   "cell_type": "code",
   "execution_count": null,
   "metadata": {},
   "outputs": [],
   "source": [
    "mAP = train_model.evaluate_generator(annotations=annotations_file)\n"
   ]
  },
  {
   "cell_type": "code",
   "execution_count": null,
   "metadata": {},
   "outputs": [],
   "source": [
    "with open(\"///ufrc/ewhite/s.marconi/Chapter4/DeepForest/snapshots/pickle.file\", \"wb\") as f:\n",
    "    pickle.dump(train_model, f, pickle.HIGHEST_PROTOCOL)"
   ]
  },
  {
   "cell_type": "code",
   "execution_count": 34,
   "metadata": {},
   "outputs": [
    {
     "data": {
      "text/plain": [
       "(3, 4)"
      ]
     },
     "execution_count": 34,
     "metadata": {},
     "output_type": "execute_result"
    }
   ],
   "source": [
    "x = np.array([[1,2,3,4], [4,5,6,4], [7,8,9,4]])\n",
    "x = x.astype(np.float32)\n",
    "dat = x**2\n",
    "#normMat = dat.apply(np.sum, axis=1)\n",
    "normMat = np.apply_along_axis(np.sum, 1, dat)\n",
    "normMat = np.power(normMat, 1./2)\n",
    "normMat = np.tile(normMat, (dat.shape[1],1))\n",
    "x= x / np.transpose(normMat)\n",
    "dat.shape"
   ]
  },
  {
   "cell_type": "code",
   "execution_count": 40,
   "metadata": {},
   "outputs": [
    {
     "data": {
      "text/plain": [
       "array([ 5.477226,  9.643651, 14.491377], dtype=float32)"
      ]
     },
     "execution_count": 40,
     "metadata": {},
     "output_type": "execute_result"
    }
   ],
   "source": [
    "normMat = np.apply_along_axis(np.sum, 1, dat)\n",
    "np.power(normMat, 1./2)"
   ]
  },
  {
   "cell_type": "code",
   "execution_count": null,
   "metadata": {},
   "outputs": [],
   "source": []
  }
 ],
 "metadata": {
  "kernelspec": {
   "display_name": "Python 3",
   "language": "python",
   "name": "python3"
  },
  "language_info": {
   "codemirror_mode": {
    "name": "ipython",
    "version": 3
   },
   "file_extension": ".py",
   "mimetype": "text/x-python",
   "name": "python",
   "nbconvert_exporter": "python",
   "pygments_lexer": "ipython3",
   "version": "3.7.0"
  }
 },
 "nbformat": 4,
 "nbformat_minor": 4
}
